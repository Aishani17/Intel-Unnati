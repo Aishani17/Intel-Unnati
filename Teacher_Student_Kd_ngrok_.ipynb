{
  "nbformat": 4,
  "nbformat_minor": 0,
  "metadata": {
    "colab": {
      "provenance": [],
      "gpuType": "T4",
      "authorship_tag": "ABX9TyMSecCCi4lkOhhiRVmd1qjO",
      "include_colab_link": true
    },
    "kernelspec": {
      "name": "python3",
      "display_name": "Python 3"
    },
    "language_info": {
      "name": "python"
    },
    "accelerator": "GPU"
  },
  "cells": [
    {
      "cell_type": "markdown",
      "metadata": {
        "id": "view-in-github",
        "colab_type": "text"
      },
      "source": [
        "<a href=\"https://colab.research.google.com/github/Aishani17/Intel-Unnati/blob/main/Teacher_Student_Kd_ngrok_.ipynb\" target=\"_parent\"><img src=\"https://colab.research.google.com/assets/colab-badge.svg\" alt=\"Open In Colab\"/></a>"
      ]
    },
    {
      "cell_type": "code",
      "execution_count": 8,
      "metadata": {
        "id": "oID_TnZu7FxK",
        "colab": {
          "base_uri": "https://localhost:8080/"
        },
        "outputId": "9e7a2373-3182-4b74-f63b-815e725de495"
      },
      "outputs": [
        {
          "output_type": "stream",
          "name": "stdout",
          "text": [
            "Drive already mounted at /content/drive; to attempt to forcibly remount, call drive.mount(\"/content/drive\", force_remount=True).\n"
          ]
        }
      ],
      "source": [
        "from google.colab import drive\n",
        "drive.mount('/content/drive')\n",
        "\n",
        "# Path to your models\n",
        "#/content/drive/MyDrive/TeacherModelalz/teacher_unet_alz.h5\n",
        "teacher_model_path = \"/content/drive/MyDrive/TeacherModel2_intel-20250711T034015Z-1-001/TeacherModel2_intel/teacher_unet.h5\"\n",
        "student_model_path = \"/content/drive/MyDrive/StudentModel3/stud_model_kd3.h5\"\n"
      ]
    },
    {
      "cell_type": "code",
      "source": [
        "!pip install streamlit pyngrok --quiet\n"
      ],
      "metadata": {
        "id": "4TmpkJev86I9"
      },
      "execution_count": 9,
      "outputs": []
    },
    {
      "cell_type": "code",
      "source": [
        "!ngrok config add-authtoken 2zEppHKpYo5Nge9QJVeXMxAaH84_7XcsfBjVMWqrGAMVpBefZ"
      ],
      "metadata": {
        "colab": {
          "base_uri": "https://localhost:8080/"
        },
        "id": "5oy1sbFEARlk",
        "outputId": "c7038626-0fa1-4774-f52c-d11b05d4a1c8"
      },
      "execution_count": 10,
      "outputs": [
        {
          "output_type": "stream",
          "name": "stdout",
          "text": [
            "Authtoken saved to configuration file: /root/.config/ngrok/ngrok.yml\n"
          ]
        }
      ]
    },
    {
      "cell_type": "code",
      "source": [
        "%%writefile app.py\n",
        "import streamlit as st\n",
        "from tensorflow.keras.models import load_model\n",
        "from PIL import Image\n",
        "import numpy as np\n",
        "import io\n",
        "\n",
        "# --- Page Configuration ---\n",
        "st.set_page_config(page_title=\"KD Demo: Teacher vs Student\", layout=\"centered\")\n",
        "\n",
        "# --- Custom CSS Styling ---\n",
        "st.markdown(\"\"\"\n",
        "    <style>\n",
        "        .main {\n",
        "            background-color: #f0f2f6;\n",
        "        }\n",
        "        .title {\n",
        "            font-size: 40px;\n",
        "            font-weight: 700;\n",
        "            color: #2c3e50;\n",
        "            text-align: center;\n",
        "            margin-top: 30px;\n",
        "        }\n",
        "        .subheader {\n",
        "            color: #34495e;\n",
        "            font-size: 20px;\n",
        "            text-align: center;\n",
        "            margin-bottom: 30px;\n",
        "        }\n",
        "        .footer {\n",
        "            font-size: 14px;\n",
        "            text-align: center;\n",
        "            color: #888;\n",
        "            margin-top: 50px;\n",
        "        }\n",
        "        .uploaded-image {\n",
        "            border-radius: 15px;\n",
        "            box-shadow: 0px 0px 10px rgba(0,0,0,0.1);\n",
        "            margin-bottom: 20px;\n",
        "        }\n",
        "    </style>\n",
        "\"\"\", unsafe_allow_html=True)\n",
        "\n",
        "# --- Title and Subtitle ---\n",
        "st.markdown('<div class=\"title\"> Knowledge Distillation Demo</div>', unsafe_allow_html=True)\n",
        "st.markdown('<div class=\"subheader\">Compare Teacher vs Student Model Outputs on Your Uploaded Image</div>', unsafe_allow_html=True)\n",
        "\n",
        "# --- Load Models ---\n",
        "@st.cache_resource\n",
        "def load_models():\n",
        "    teacher = load_model(\"/content/drive/MyDrive/TeacherModel2_intel-20250711T034015Z-1-001/TeacherModel2_intel/teacher_unet.h5\", compile=False)\n",
        "    student = load_model(\"/content/drive/MyDrive/StudentModel3/stud_model_kd3.h5\", compile=False)\n",
        "    return teacher, student\n",
        "\n",
        "# --- Pre/Post Processing ---\n",
        "def preprocess_image(image):\n",
        "    resized = image.resize((128, 128))  # Resize for model input\n",
        "    array = np.array(resized) / 255.0\n",
        "    return np.expand_dims(array, axis=0), image.size  # return original size too\n",
        "\n",
        "def postprocess_image(pred, original_size):\n",
        "    pred = np.clip(pred[0], 0, 1) * 255\n",
        "    image = Image.fromarray(pred.astype('uint8')).resize(original_size)\n",
        "    return image\n",
        "\n",
        "# --- Load Models ---\n",
        "teacher_model, student_model = load_models()\n",
        "\n",
        "# --- Upload Interface ---\n",
        "uploaded_file = st.file_uploader(\" Upload an image (JPG/PNG)\", type=[\"jpg\", \"png\"])\n",
        "\n",
        "if uploaded_file:\n",
        "    image = Image.open(uploaded_file).convert(\"RGB\")\n",
        "    st.image(image, caption=\"🖼️ Original Image\", use_container_width=True, output_format=\"PNG\", channels=\"RGB\")\n",
        "\n",
        "    with st.spinner(\"🔄 Processing Image...\"):\n",
        "        input_data, original_size = preprocess_image(image)\n",
        "\n",
        "        col1, col2 = st.columns(2)\n",
        "\n",
        "        with col1:\n",
        "            st.subheader(\" Teacher Model Output\")\n",
        "            teacher_output = teacher_model.predict(input_data)\n",
        "            teacher_result = postprocess_image(teacher_output, original_size)\n",
        "            st.image(teacher_result, use_container_width=True, caption=\"Teacher Output\")\n",
        "\n",
        "        with col2:\n",
        "            st.subheader(\" Student Model Output\")\n",
        "            student_output = student_model.predict(input_data)\n",
        "            student_result = postprocess_image(student_output, original_size)\n",
        "            st.image(student_result, use_container_width=True, caption=\"Student Output\")\n",
        "\n",
        "# --- Footer ---\n",
        "st.markdown('<div class=\"footer\"> Built with  using Streamlit | KD Project</div>', unsafe_allow_html=True)\n"
      ],
      "metadata": {
        "colab": {
          "base_uri": "https://localhost:8080/"
        },
        "id": "t57OdlKiFjAB",
        "outputId": "33b9cc45-bfa2-4e27-82ec-3f2591fa18a2"
      },
      "execution_count": 11,
      "outputs": [
        {
          "output_type": "stream",
          "name": "stdout",
          "text": [
            "Overwriting app.py\n"
          ]
        }
      ]
    },
    {
      "cell_type": "code",
      "source": [
        "!streamlit run app.py &>/content/logs.txt &\n"
      ],
      "metadata": {
        "id": "TQ4l3cOhBsHo"
      },
      "execution_count": 12,
      "outputs": []
    },
    {
      "cell_type": "code",
      "source": [
        "from pyngrok import ngrok\n",
        "\n",
        "public_url = ngrok.connect(\"http://localhost:8501\")\n",
        "print(\"🔗 Your Streamlit app is live at:\", public_url)\n"
      ],
      "metadata": {
        "colab": {
          "base_uri": "https://localhost:8080/"
        },
        "id": "Atbkd8lsBwzw",
        "outputId": "75176dfe-3dd2-49e7-ff66-d7888e1f04e9"
      },
      "execution_count": 13,
      "outputs": [
        {
          "output_type": "stream",
          "name": "stdout",
          "text": [
            "🔗 Your Streamlit app is live at: NgrokTunnel: \"https://cdf53124255a.ngrok-free.app\" -> \"http://localhost:8501\"\n"
          ]
        }
      ]
    },
    {
      "cell_type": "code",
      "source": [
        "ngrok.kill()"
      ],
      "metadata": {
        "id": "-62q4735RIc3"
      },
      "execution_count": null,
      "outputs": []
    },
    {
      "cell_type": "code",
      "source": [
        "\n"
      ],
      "metadata": {
        "id": "wi4T-w95AQUm"
      },
      "execution_count": null,
      "outputs": []
    },
    {
      "cell_type": "code",
      "source": [
        "\n"
      ],
      "metadata": {
        "id": "QCwDbhxpDBAW"
      },
      "execution_count": null,
      "outputs": []
    },
    {
      "cell_type": "code",
      "source": [],
      "metadata": {
        "id": "CHVgbrZ4DDyo"
      },
      "execution_count": null,
      "outputs": []
    },
    {
      "cell_type": "code",
      "source": [
        "\n"
      ],
      "metadata": {
        "id": "2QMjpekvEi1I"
      },
      "execution_count": null,
      "outputs": []
    }
  ]
}