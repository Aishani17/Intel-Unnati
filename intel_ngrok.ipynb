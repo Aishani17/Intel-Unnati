{
  "nbformat": 4,
  "nbformat_minor": 0,
  "metadata": {
    "colab": {
      "provenance": [],
      "authorship_tag": "ABX9TyOt6DsCfpplzanzBEN8i3pD",
      "include_colab_link": true
    },
    "kernelspec": {
      "name": "python3",
      "display_name": "Python 3"
    },
    "language_info": {
      "name": "python"
    }
  },
  "cells": [
    {
      "cell_type": "markdown",
      "metadata": {
        "id": "view-in-github",
        "colab_type": "text"
      },
      "source": [
        "<a href=\"https://colab.research.google.com/github/Aishani17/intel-project_1/blob/main/intel_ngrok.ipynb\" target=\"_parent\"><img src=\"https://colab.research.google.com/assets/colab-badge.svg\" alt=\"Open In Colab\"/></a>"
      ]
    },
    {
      "cell_type": "code",
      "execution_count": 1,
      "metadata": {
        "colab": {
          "base_uri": "https://localhost:8080/"
        },
        "id": "oID_TnZu7FxK",
        "outputId": "f44604e4-5d64-4a3c-ded0-d6ce86d6962d"
      },
      "outputs": [
        {
          "output_type": "stream",
          "name": "stdout",
          "text": [
            "Mounted at /content/drive\n"
          ]
        }
      ],
      "source": [
        "from google.colab import drive\n",
        "drive.mount('/content/drive')\n",
        "\n",
        "# Path to your models\n",
        "#/content/drive/MyDrive/TeacherModelalz/teacher_unet_alz.h5\n",
        "teacher_model_path = \"/content/drive/MyDrive/TeacherModelalz/teacher_unet_alz.h5\"\n",
        "student_model_path = \"/content/drive/MyDrive/StudentModel3/stud_model_kd3.h5\"\n"
      ]
    },
    {
      "cell_type": "code",
      "source": [
        "!pip install streamlit pyngrok --quiet\n"
      ],
      "metadata": {
        "id": "4TmpkJev86I9",
        "colab": {
          "base_uri": "https://localhost:8080/"
        },
        "outputId": "af9a34c6-5d7f-448e-8522-a7dcf88f73d2"
      },
      "execution_count": 2,
      "outputs": [
        {
          "output_type": "stream",
          "name": "stdout",
          "text": [
            "\u001b[2K     \u001b[90m━━━━━━━━━━━━━━━━━━━━━━━━━━━━━━━━━━━━━━━━\u001b[0m \u001b[32m44.3/44.3 kB\u001b[0m \u001b[31m3.3 MB/s\u001b[0m eta \u001b[36m0:00:00\u001b[0m\n",
            "\u001b[2K   \u001b[90m━━━━━━━━━━━━━━━━━━━━━━━━━━━━━━━━━━━━━━━━\u001b[0m \u001b[32m10.1/10.1 MB\u001b[0m \u001b[31m60.3 MB/s\u001b[0m eta \u001b[36m0:00:00\u001b[0m\n",
            "\u001b[2K   \u001b[90m━━━━━━━━━━━━━━━━━━━━━━━━━━━━━━━━━━━━━━━━\u001b[0m \u001b[32m6.9/6.9 MB\u001b[0m \u001b[31m75.7 MB/s\u001b[0m eta \u001b[36m0:00:00\u001b[0m\n",
            "\u001b[2K   \u001b[90m━━━━━━━━━━━━━━━━━━━━━━━━━━━━━━━━━━━━━━━━\u001b[0m \u001b[32m79.1/79.1 kB\u001b[0m \u001b[31m5.5 MB/s\u001b[0m eta \u001b[36m0:00:00\u001b[0m\n",
            "\u001b[?25h"
          ]
        }
      ]
    },
    {
      "cell_type": "code",
      "source": [
        "!ngrok config add-authtoken 2zEppHKpYo5Nge9QJVeXMxAaH84_7XcsfBjVMWqrGAMVpBefZ"
      ],
      "metadata": {
        "colab": {
          "base_uri": "https://localhost:8080/"
        },
        "id": "5oy1sbFEARlk",
        "outputId": "1bcb630b-9dc1-4282-e225-07c2f96f9e01"
      },
      "execution_count": 3,
      "outputs": [
        {
          "output_type": "stream",
          "name": "stdout",
          "text": [
            "Authtoken saved to configuration file: /root/.config/ngrok/ngrok.yml\n"
          ]
        }
      ]
    },
    {
      "cell_type": "code",
      "source": [
        "%%writefile app.py\n",
        "import streamlit as st\n",
        "from tensorflow.keras.models import load_model\n",
        "from PIL import Image\n",
        "import numpy as np\n",
        "import io\n",
        "\n",
        "# --- Page Configuration ---\n",
        "st.set_page_config(page_title=\"KD Demo: Teacher vs Student\", layout=\"centered\")\n",
        "\n",
        "# --- Custom CSS Styling ---\n",
        "st.markdown(\"\"\"\n",
        "    <style>\n",
        "        .main {\n",
        "            background-color: #f7f9fc;\n",
        "        }\n",
        "        .title {\n",
        "            font-size: 32px;\n",
        "            font-weight: bold;\n",
        "            color: #4a90e2;\n",
        "            text-align: center;\n",
        "        }\n",
        "        .subheader {\n",
        "            color: #555;\n",
        "            font-size: 20px;\n",
        "            text-align: center;\n",
        "            margin-top: -10px;\n",
        "        }\n",
        "        .footer {\n",
        "            font-size: 14px;\n",
        "            text-align: center;\n",
        "            color: #999;\n",
        "            margin-top: 30px;\n",
        "        }\n",
        "        .uploaded-image {\n",
        "            border-radius: 10px;\n",
        "            margin-bottom: 15px;\n",
        "        }\n",
        "    </style>\n",
        "\"\"\", unsafe_allow_html=True)\n",
        "\n",
        "# --- Title and Subtitle ---\n",
        "st.markdown('<div class=\"title\">Knowledge Distillation </div>', unsafe_allow_html=True)\n",
        "st.markdown('<div class=\"subheader\">Compare Outputs of Teacher and Student Models on Your Uploaded Image</div>', unsafe_allow_html=True)\n",
        "\n",
        "# --- Load Models ---\n",
        "@st.cache_resource\n",
        "def load_models():\n",
        "    teacher = load_model(\"/content/drive/MyDrive/TeacherModelalz/teacher_unet_alz.h5\", compile=False)\n",
        "    student = load_model(\"/content/drive/MyDrive/StudentModel3/stud_model_kd3.h5\", compile=False)\n",
        "    return teacher, student\n",
        "\n",
        "# --- Image Pre/Post Processing ---\n",
        "def preprocess_image(image):\n",
        "    image = image.resize((128, 128))  # Resize as per model input\n",
        "    image_array = np.array(image) / 255.0\n",
        "    return np.expand_dims(image_array, axis=0)\n",
        "\n",
        "def postprocess_image(pred):\n",
        "    pred = np.clip(pred[0], 0, 1) * 255\n",
        "    return Image.fromarray(pred.astype('uint8'))\n",
        "\n",
        "# --- Load Models ---\n",
        "teacher_model, student_model = load_models()\n",
        "\n",
        "# --- Upload Interface ---\n",
        "uploaded_file = st.file_uploader(\"📁 Upload an image (JPG/PNG)\", type=[\"jpg\", \"png\"])\n",
        "\n",
        "if uploaded_file:\n",
        "    image = Image.open(uploaded_file).convert(\"RGB\")\n",
        "    st.image(image, caption=\"🖼️ Original Image\", use_column_width=True, output_format=\"PNG\")\n",
        "\n",
        "    input_data = preprocess_image(image)\n",
        "\n",
        "    col1, col2 = st.columns(2)\n",
        "\n",
        "    with col1:\n",
        "        st.subheader(\" Teacher Model Output\")\n",
        "        teacher_output = teacher_model.predict(input_data)\n",
        "        teacher_result = postprocess_image(teacher_output)\n",
        "        st.image(teacher_result, use_column_width=True)\n",
        "\n",
        "    with col2:\n",
        "        st.subheader(\" Student Model Output\")\n",
        "        student_output = student_model.predict(input_data)\n",
        "        student_result = postprocess_image(student_output)\n",
        "        st.image(student_result, use_column_width=True)\n",
        "\n",
        "# --- Footer ---\n",
        "st.markdown('<div class=\"footer\">Made with  using Streamlit</div>', unsafe_allow_html=True)\n"
      ],
      "metadata": {
        "colab": {
          "base_uri": "https://localhost:8080/"
        },
        "id": "5vXoajqG3u6K",
        "outputId": "310c5e85-eee9-432c-a607-140f9ba8b25c"
      },
      "execution_count": 4,
      "outputs": [
        {
          "output_type": "stream",
          "name": "stdout",
          "text": [
            "Writing app.py\n"
          ]
        }
      ]
    },
    {
      "cell_type": "code",
      "source": [
        "!streamlit run app.py &>/content/logs.txt &\n"
      ],
      "metadata": {
        "id": "TQ4l3cOhBsHo"
      },
      "execution_count": 5,
      "outputs": []
    },
    {
      "cell_type": "code",
      "source": [
        "from pyngrok import ngrok\n",
        "\n",
        "public_url = ngrok.connect(\"http://localhost:8501\")\n",
        "print(\"🔗 Your Streamlit app is live at:\", public_url)\n"
      ],
      "metadata": {
        "colab": {
          "base_uri": "https://localhost:8080/"
        },
        "id": "Atbkd8lsBwzw",
        "outputId": "b1cc5c86-6eb4-47bc-c5f8-cb10ebc4a148"
      },
      "execution_count": 7,
      "outputs": [
        {
          "output_type": "stream",
          "name": "stdout",
          "text": [
            "🔗 Your Streamlit app is live at: NgrokTunnel: \"https://33de81807c97.ngrok-free.app\" -> \"http://localhost:8501\"\n"
          ]
        }
      ]
    },
    {
      "cell_type": "code",
      "source": [],
      "metadata": {
        "id": "6vWNan7lWIE5"
      },
      "execution_count": null,
      "outputs": []
    },
    {
      "cell_type": "code",
      "source": [
        "\n",
        "ngrok.kill()\n"
      ],
      "metadata": {
        "id": "9G3V56AL8vwh"
      },
      "execution_count": null,
      "outputs": []
    }
  ]
}